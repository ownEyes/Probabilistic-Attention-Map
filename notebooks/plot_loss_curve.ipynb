{
 "cells": [
  {
   "cell_type": "code",
   "execution_count": null,
   "metadata": {},
   "outputs": [],
   "source": [
    "import pandas as pd\n",
    "import matplotlib.pyplot as plt\n",
    "import os\n",
    "\n",
    "\n",
    "def plot_training_loss(file_path: str, output_path: str):\n",
    "    \"\"\"\n",
    "    Reads the training loss data from a CSV file, plots the loss curves for each run,\n",
    "    and saves the plot as an image.\n",
    "\n",
    "    Args:\n",
    "        file_path (str): Path to the input CSV file.\n",
    "        output_path (str): Path to save the output plot image.\n",
    "    \"\"\"\n",
    "    # Read the CSV file\n",
    "    df = pd.read_csv(file_path)\n",
    "\n",
    "    # Create a figure and axis\n",
    "    plt.figure(figsize=(10, 6))\n",
    "\n",
    "    # Get a colormap with distinguishable colors\n",
    "    colormap = plt.colormaps['tab10']  # Updated to use matplotlib.colormaps[name]\n",
    "    colors = [colormap(i) for i in range(10)]  # Generate up to 10 colors\n",
    "\n",
    "    # Group by \"Run\" and plot each group's loss curve\n",
    "    for i, (run_name, group) in enumerate(df.groupby(\"Run\")):\n",
    "        plt.plot(\n",
    "            group[\"step\"], group[\"value\"], label=run_name, color=colors[i % len(colors)], linestyle='-', alpha=0.7\n",
    "        )\n",
    "\n",
    "    # Customize the plot\n",
    "    plt.title(\"Training Loss Comparison\")\n",
    "    plt.xlabel(\"Steps\")\n",
    "    plt.ylabel(\"Training Loss\")\n",
    "    plt.legend(title=\"Run\", loc=\"upper right\", fontsize=\"small\")  # Add a legend for runs\n",
    "    plt.grid(alpha=0.5)\n",
    "\n",
    "    # Save the plot to the specified file\n",
    "    os.makedirs(os.path.dirname(output_path), exist_ok=True)\n",
    "    plt.savefig(output_path, dpi=300)\n",
    "    plt.close()"
   ]
  },
  {
   "cell_type": "code",
   "execution_count": null,
   "metadata": {},
   "outputs": [],
   "source": [
    "# File and output paths\n",
    "input_csv_path = \"./training_loss/C10.csv\"\n",
    "output_image_path = \"./training_loss/comparison_plot.png\"\n",
    "\n",
    "# Call the function to plot and save the figure\n",
    "plot_training_loss(input_csv_path, output_image_path)"
   ]
  }
 ],
 "metadata": {
  "kernelspec": {
   "display_name": "attention",
   "language": "python",
   "name": "python3"
  },
  "language_info": {
   "name": "python",
   "version": "3.12.4"
  }
 },
 "nbformat": 4,
 "nbformat_minor": 2
}
